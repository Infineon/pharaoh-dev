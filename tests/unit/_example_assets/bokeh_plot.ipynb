{
 "cells": [
  {
   "cell_type": "code",
   "execution_count": null,
   "id": "e820e96a",
   "metadata": {},
   "outputs": [],
   "source": [
    "from __future__ import annotations\n",
    "\n",
    "from bokeh.io import export_png, export_svg, output_notebook, save, show\n",
    "from bokeh.plotting import figure\n",
    "from bokeh.sampledata.iris import flowers\n",
    "\n",
    "output_notebook()"
   ]
  },
  {
   "cell_type": "code",
   "execution_count": null,
   "id": "7fb27b941602401d91542211134fc71a",
   "metadata": {
    "collapsed": false
   },
   "outputs": [],
   "source": [
    "colormap = {\"setosa\": \"red\", \"versicolor\": \"green\", \"virginica\": \"blue\"}\n",
    "colors = [colormap[x] for x in flowers[\"species\"]]\n",
    "\n",
    "p = figure(title=\"Iris Morphology\")\n",
    "p.xaxis.axis_label = \"Petal Length\"\n",
    "p.yaxis.axis_label = \"Petal Width\"\n",
    "\n",
    "p.scatter(flowers[\"petal_length\"], flowers[\"petal_width\"], color=colors, fill_alpha=0.2, size=10)\n",
    "\n",
    "show(p)\n",
    "save(p, \"iris_scatter_bokeh_1.html\")\n",
    "export_png(p, filename=\"iris_scatter_bokeh_2.png\")\n",
    "export_svg(p, filename=\"iris_scatter_bokeh_3.svg\")"
   ]
  }
 ],
 "metadata": {
  "kernelspec": {
   "display_name": "Python 3 (ipykernel)",
   "language": "python",
   "name": "python3"
  },
  "language_info": {
   "codemirror_mode": {
    "name": "ipython",
    "version": 3
   },
   "file_extension": ".py",
   "mimetype": "text/x-python",
   "name": "python",
   "nbconvert_exporter": "python",
   "pygments_lexer": "ipython3",
   "version": "3.9.13"
  },
  "toc": {
   "base_numbering": 1,
   "nav_menu": {},
   "number_sections": true,
   "sideBar": true,
   "skip_h1_title": false,
   "title_cell": "Table of Contents",
   "title_sidebar": "Contents",
   "toc_cell": false,
   "toc_position": {},
   "toc_section_display": true,
   "toc_window_display": false
  }
 },
 "nbformat": 4,
 "nbformat_minor": 5
}
