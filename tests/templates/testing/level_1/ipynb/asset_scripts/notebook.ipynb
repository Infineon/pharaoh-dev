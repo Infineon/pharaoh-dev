{
 "cells": [
  {
   "metadata": {},
   "cell_type": "code",
   "source": [
    "from __future__ import annotations\n",
    "\n",
    "from bokeh.io import save\n",
    "from bokeh.plotting import figure\n",
    "from bokeh.sampledata.iris import flowers\n",
    "\n",
    "from pharaoh.assetlib.api import metadata_context, get_current_component, get_resource\n",
    "\n",
    "component = get_current_component()\n",
    "assert component == \"mycomponent\"\n",
    "resource = get_resource(\"mydata\").locate()\n",
    "assert resource.exists() and resource.name == \"data.txt\""
   ],
   "id": "e820e96a",
   "outputs": [],
   "execution_count": null
  },
  {
   "cell_type": "code",
   "id": "7fb27b941602401d91542211134fc71a",
   "metadata": {
    "collapsed": false
   },
   "source": [
    "with metadata_context(label=\"BOKEH\"):\n",
    "    p = figure(title=f\"Iris Morphology\", width=400, height=400)\n",
    "    p.xaxis.axis_label = \"Petal Length\"\n",
    "    p.yaxis.axis_label = \"Petal Width\"\n",
    "    p.scatter(flowers[\"petal_length\"], flowers[\"petal_width\"], fill_alpha=0.2, size=10)\n",
    "    save(p, filename=\"iris_scatter.html\")"
   ],
   "outputs": [],
   "execution_count": null
  }
 ],
 "metadata": {
  "kernelspec": {
   "display_name": "Python 3 (ipykernel)",
   "language": "python",
   "name": "python3"
  },
  "language_info": {
   "codemirror_mode": {
    "name": "ipython",
    "version": 3
   },
   "file_extension": ".py",
   "mimetype": "text/x-python",
   "name": "python",
   "nbconvert_exporter": "python",
   "pygments_lexer": "ipython3",
   "version": "3.9.13"
  },
  "toc": {
   "base_numbering": 1,
   "nav_menu": {},
   "number_sections": true,
   "sideBar": true,
   "skip_h1_title": false,
   "title_cell": "Table of Contents",
   "title_sidebar": "Contents",
   "toc_cell": false,
   "toc_position": {},
   "toc_section_display": true,
   "toc_window_display": false
  }
 },
 "nbformat": 4,
 "nbformat_minor": 5
}
